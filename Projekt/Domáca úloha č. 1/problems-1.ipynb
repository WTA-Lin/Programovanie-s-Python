{
 "cells": [
  {
   "cell_type": "code",
   "execution_count": 2,
   "id": "b067fafa",
   "metadata": {},
   "outputs": [
    {
     "name": "stdout",
     "output_type": "stream",
     "text": [
      "9\n",
      "<class 'int'>\n"
     ]
    }
   ],
   "source": [
    "myInt = 9\n",
    "print(myInt)\n",
    "print(type(myInt))"
   ]
  },
  {
   "cell_type": "code",
   "execution_count": 3,
   "id": "1b976a07",
   "metadata": {},
   "outputs": [
    {
     "name": "stdout",
     "output_type": "stream",
     "text": [
      "1.25\n",
      "<class 'float'>\n"
     ]
    }
   ],
   "source": [
    "myFloat = 1.25\n",
    "print(myFloat)\n",
    "print(type(myFloat))"
   ]
  },
  {
   "cell_type": "code",
   "execution_count": 4,
   "id": "c5c49944",
   "metadata": {},
   "outputs": [
    {
     "name": "stdout",
     "output_type": "stream",
     "text": [
      "ahojte\n",
      "<class 'str'>\n"
     ]
    }
   ],
   "source": [
    "myStr = \"ahojte\"\n",
    "print(myStr)\n",
    "print(type(myStr))"
   ]
  },
  {
   "cell_type": "code",
   "execution_count": 5,
   "id": "516014b5",
   "metadata": {},
   "outputs": [
    {
     "name": "stdout",
     "output_type": "stream",
     "text": [
      "True\n",
      "<class 'bool'>\n"
     ]
    }
   ],
   "source": [
    "myBool = 5 > 3\n",
    "print(myBool)\n",
    "print(type(myBool))"
   ]
  },
  {
   "cell_type": "code",
   "execution_count": 6,
   "id": "88d616e6",
   "metadata": {},
   "outputs": [
    {
     "name": "stdout",
     "output_type": "stream",
     "text": [
      "21\n"
     ]
    }
   ],
   "source": [
    "x = 5\n",
    "x += 2\n",
    "y = 2\n",
    "y += 1\n",
    "print(x * y)"
   ]
  },
  {
   "cell_type": "code",
   "execution_count": 12,
   "id": "f9cf3f9c",
   "metadata": {},
   "outputs": [
    {
     "name": "stdout",
     "output_type": "stream",
     "text": [
      "28\n"
     ]
    }
   ],
   "source": [
    "x = 3\n",
    "y = 10\n",
    "print(x * y - y % x - y % x)"
   ]
  },
  {
   "cell_type": "code",
   "execution_count": 6,
   "id": "8f276fce",
   "metadata": {},
   "outputs": [
    {
     "name": "stdout",
     "output_type": "stream",
     "text": [
      "John\n",
      "john@gmail.com\n"
     ]
    }
   ],
   "source": [
    "meno = \"John\"\n",
    "email = \"john@gmail.com\"\n",
    "\n",
    "print(meno)\n",
    "print(email)"
   ]
  },
  {
   "cell_type": "code",
   "execution_count": null,
   "id": "72e54bd8",
   "metadata": {},
   "outputs": [],
   "source": []
  }
 ],
 "metadata": {
  "kernelspec": {
   "display_name": "Python 3",
   "language": "python",
   "name": "python3"
  },
  "language_info": {
   "codemirror_mode": {
    "name": "ipython",
    "version": 3
   },
   "file_extension": ".py",
   "mimetype": "text/x-python",
   "name": "python",
   "nbconvert_exporter": "python",
   "pygments_lexer": "ipython3",
   "version": "3.14.0"
  }
 },
 "nbformat": 4,
 "nbformat_minor": 5
}
