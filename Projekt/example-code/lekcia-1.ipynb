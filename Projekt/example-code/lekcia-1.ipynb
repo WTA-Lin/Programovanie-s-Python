{
 "cells": [
  {
   "cell_type": "markdown",
   "id": "de7996f5",
   "metadata": {},
   "source": [
    "* Task\n"
   ]
  }
 ],
 "metadata": {
  "kernelspec": {
   "display_name": "Python 3",
   "language": "python",
   "name": "python3"
  },
  "language_info": {
   "name": "python",
   "version": "3.14.0"
  }
 },
 "nbformat": 4,
 "nbformat_minor": 5
}
